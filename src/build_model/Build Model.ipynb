{
 "cells": [
  {
   "cell_type": "markdown",
   "id": "9d4f9568",
   "metadata": {},
   "source": [
    "# Import required libraries and config"
   ]
  },
  {
   "cell_type": "code",
   "execution_count": 64,
   "id": "e639b546",
   "metadata": {
    "ExecuteTime": {
     "end_time": "2023-05-06T09:05:03.705408Z",
     "start_time": "2023-05-06T09:05:03.700856Z"
    }
   },
   "outputs": [],
   "source": [
    "import pandas as pd\n",
    "from sklearn.model_selection import train_test_split\n",
    "from sklearn.metrics import mean_absolute_percentage_error\n",
    "import matplotlib.pyplot as plt\n",
    "\n",
    "import os\n",
    "import sys\n",
    "module_path = os.path.abspath(os.path.join('../..'))\n",
    "if module_path not in sys.path:\n",
    "    sys.path.append(module_path)\n",
    "from src.config.constants import PATH_TO_INPUT_DIR"
   ]
  },
  {
   "cell_type": "markdown",
   "id": "4e2b3ad6",
   "metadata": {},
   "source": [
    "# Read Data"
   ]
  },
  {
   "cell_type": "code",
   "execution_count": 65,
   "id": "801b1a48",
   "metadata": {
    "ExecuteTime": {
     "end_time": "2023-05-06T09:05:03.719660Z",
     "start_time": "2023-05-06T09:05:03.708218Z"
    },
    "pycharm": {
     "name": "#%%\n"
    }
   },
   "outputs": [
    {
     "data": {
      "text/html": [
       "<div>\n",
       "<style scoped>\n",
       "    .dataframe tbody tr th:only-of-type {\n",
       "        vertical-align: middle;\n",
       "    }\n",
       "\n",
       "    .dataframe tbody tr th {\n",
       "        vertical-align: top;\n",
       "    }\n",
       "\n",
       "    .dataframe thead th {\n",
       "        text-align: right;\n",
       "    }\n",
       "</style>\n",
       "<table border=\"1\" class=\"dataframe\">\n",
       "  <thead>\n",
       "    <tr style=\"text-align: right;\">\n",
       "      <th></th>\n",
       "      <th>date</th>\n",
       "      <th>waiting_time</th>\n",
       "      <th>is_public_holiday</th>\n",
       "      <th>day_of_week</th>\n",
       "      <th>is_semester</th>\n",
       "      <th>train_traffic</th>\n",
       "    </tr>\n",
       "  </thead>\n",
       "  <tbody>\n",
       "    <tr>\n",
       "      <th>0</th>\n",
       "      <td>2022-11-07</td>\n",
       "      <td>17</td>\n",
       "      <td>False</td>\n",
       "      <td>0</td>\n",
       "      <td>True</td>\n",
       "      <td>26</td>\n",
       "    </tr>\n",
       "    <tr>\n",
       "      <th>1</th>\n",
       "      <td>2022-11-08</td>\n",
       "      <td>42</td>\n",
       "      <td>False</td>\n",
       "      <td>1</td>\n",
       "      <td>False</td>\n",
       "      <td>34</td>\n",
       "    </tr>\n",
       "    <tr>\n",
       "      <th>2</th>\n",
       "      <td>2022-11-09</td>\n",
       "      <td>49</td>\n",
       "      <td>False</td>\n",
       "      <td>2</td>\n",
       "      <td>False</td>\n",
       "      <td>29</td>\n",
       "    </tr>\n",
       "    <tr>\n",
       "      <th>3</th>\n",
       "      <td>2022-11-10</td>\n",
       "      <td>16</td>\n",
       "      <td>True</td>\n",
       "      <td>3</td>\n",
       "      <td>False</td>\n",
       "      <td>31</td>\n",
       "    </tr>\n",
       "    <tr>\n",
       "      <th>4</th>\n",
       "      <td>2022-11-12</td>\n",
       "      <td>44</td>\n",
       "      <td>False</td>\n",
       "      <td>5</td>\n",
       "      <td>False</td>\n",
       "      <td>32</td>\n",
       "    </tr>\n",
       "  </tbody>\n",
       "</table>\n",
       "</div>"
      ],
      "text/plain": [
       "         date  waiting_time  is_public_holiday  day_of_week  is_semester  \\\n",
       "0  2022-11-07            17              False            0         True   \n",
       "1  2022-11-08            42              False            1        False   \n",
       "2  2022-11-09            49              False            2        False   \n",
       "3  2022-11-10            16               True            3        False   \n",
       "4  2022-11-12            44              False            5        False   \n",
       "\n",
       "   train_traffic  \n",
       "0             26  \n",
       "1             34  \n",
       "2             29  \n",
       "3             31  \n",
       "4             32  "
      ]
     },
     "execution_count": 65,
     "metadata": {},
     "output_type": "execute_result"
    }
   ],
   "source": [
    "auto_wait_data = pd.read_csv(PATH_TO_INPUT_DIR + 'auto_wait_times_cleaned.csv')\n",
    "auto_wait_data.head()"
   ]
  },
  {
   "cell_type": "markdown",
   "id": "89639a7e",
   "metadata": {},
   "source": [
    "# Defining Test Metric. Why do we need it?"
   ]
  },
  {
   "cell_type": "markdown",
   "id": "4cfd46a4",
   "metadata": {},
   "source": [
    "## Candidate metrics"
   ]
  },
  {
   "cell_type": "markdown",
   "id": "869c7d86",
   "metadata": {},
   "source": [
    "In order to arrive at the evaluation metric of our choice, we evaluated multiple metrics. Please find a brief summary of the metrics we looked at and the pros/cons of them in our context. \n",
    "\n",
    "1. Mean Absolute Error ( MAE )\n",
    "$$ MAE = Mean(|e_i|)$$\n",
    "    - Cons:- \n",
    "        * Scale dependent\n",
    "        * Averages out the error across the whole series\n",
    "\n",
    "---\n",
    "        \n",
    "2. Root Mean Squared Error ( RMSE )\n",
    "$$ RMSE = \\sqrt mean(e_i^2) $$\n",
    "    - Pros:-\n",
    "        * Penalises larger deviations more than smaller deviations\n",
    "    - Cons:-\n",
    "        * Scale dependent\n",
    "        * Sensitive to outliers\n",
    "\n",
    "---\n",
    "\n",
    "3. Mean Absolute Percentage Error ( MAPE )\n",
    "$$ MAPE = mean(|e_i| / y_i) * 100 $$  \n",
    "\n",
    "    - Pros:-\n",
    "        * Scale independent\n",
    "    - Cons:-\n",
    "        * Undefined if the actual figure is 0 for an observation\n",
    "---        \n"
   ]
  },
  {
   "cell_type": "markdown",
   "id": "667a6c46",
   "metadata": {},
   "source": [
    "For the purpose of this demo, we will go ahead with *MAPE* as our choice of test metric."
   ]
  },
  {
   "cell_type": "markdown",
   "id": "c5555b4a",
   "metadata": {},
   "source": [
    "# Train Test Split"
   ]
  },
  {
   "cell_type": "code",
   "execution_count": 66,
   "id": "cc455026",
   "metadata": {
    "ExecuteTime": {
     "end_time": "2023-05-06T09:05:03.729250Z",
     "start_time": "2023-05-06T09:05:03.721943Z"
    }
   },
   "outputs": [
    {
     "data": {
      "text/plain": [
       "((148, 5), (148, 1))"
      ]
     },
     "execution_count": 66,
     "metadata": {},
     "output_type": "execute_result"
    }
   ],
   "source": [
    "labels = auto_wait_data.drop(columns=['waiting_time'])\n",
    "target = auto_wait_data[['waiting_time']].copy()\n",
    "labels.shape, target.shape"
   ]
  },
  {
   "cell_type": "code",
   "execution_count": 67,
   "id": "e5fcd713",
   "metadata": {
    "ExecuteTime": {
     "end_time": "2023-05-06T09:05:03.741219Z",
     "start_time": "2023-05-06T09:05:03.733404Z"
    }
   },
   "outputs": [
    {
     "data": {
      "text/plain": [
       "((99, 5), (49, 5), (99, 1), (49, 1))"
      ]
     },
     "execution_count": 67,
     "metadata": {},
     "output_type": "execute_result"
    }
   ],
   "source": [
    "labels_train, labels_test, target_train, target_test = train_test_split(labels, target, test_size=0.33, random_state=42)\n",
    "labels_train.shape, labels_test.shape, target_train.shape, target_test.shape"
   ]
  },
  {
   "cell_type": "markdown",
   "id": "c8755a86",
   "metadata": {
    "ExecuteTime": {
     "end_time": "2023-05-06T08:45:11.614423Z",
     "start_time": "2023-05-06T08:45:11.611799Z"
    }
   },
   "source": [
    "# Establish Baseline"
   ]
  },
  {
   "cell_type": "markdown",
   "id": "a4585d6e",
   "metadata": {},
   "source": [
    "## Mean baseline"
   ]
  },
  {
   "cell_type": "code",
   "execution_count": 68,
   "id": "11271eed",
   "metadata": {
    "ExecuteTime": {
     "end_time": "2023-05-06T09:05:03.751513Z",
     "start_time": "2023-05-06T09:05:03.743350Z"
    }
   },
   "outputs": [
    {
     "data": {
      "text/plain": [
       "count    99.000000\n",
       "mean     39.131313\n",
       "std      16.641261\n",
       "min       6.000000\n",
       "25%      26.000000\n",
       "50%      38.000000\n",
       "75%      56.000000\n",
       "max      64.000000\n",
       "Name: waiting_time, dtype: float64"
      ]
     },
     "execution_count": 68,
     "metadata": {},
     "output_type": "execute_result"
    }
   ],
   "source": [
    "target_train['waiting_time'].describe()"
   ]
  },
  {
   "cell_type": "code",
   "execution_count": 74,
   "id": "95caefa3",
   "metadata": {
    "ExecuteTime": {
     "end_time": "2023-05-06T09:05:46.020137Z",
     "start_time": "2023-05-06T09:05:46.015647Z"
    }
   },
   "outputs": [
    {
     "name": "stdout",
     "output_type": "stream",
     "text": [
      "The mean wait time for the train set =  39.13131313131313\n"
     ]
    }
   ],
   "source": [
    "mean_wait_train = target_train['waiting_time'].mean()\n",
    "print(\"The mean wait time for the train set = \", mean_wait_train)"
   ]
  },
  {
   "cell_type": "code",
   "execution_count": 70,
   "id": "ae62bdf1",
   "metadata": {
    "ExecuteTime": {
     "end_time": "2023-05-06T09:05:04.373488Z",
     "start_time": "2023-05-06T09:05:03.764309Z"
    }
   },
   "outputs": [
    {
     "data": {
      "text/plain": [
       "<matplotlib.lines.Line2D at 0x132ba1030>"
      ]
     },
     "execution_count": 70,
     "metadata": {},
     "output_type": "execute_result"
    },
    {
     "data": {
      "image/png": "[encoded data removed]",
      "text/plain": [
       "<Figure size 640x480 with 1 Axes>"
      ]
     },
     "metadata": {},
     "output_type": "display_data"
    }
   ],
   "source": [
    "plt.plot(labels_train['date'], target_train['waiting_time'])\n",
    "plt.axhline(mean_wait_train, color='r') # horizontal"
   ]
  },
  {
   "cell_type": "code",
   "execution_count": 79,
   "id": "129af61a",
   "metadata": {
    "ExecuteTime": {
     "end_time": "2023-05-06T09:07:06.258663Z",
     "start_time": "2023-05-06T09:07:06.254510Z"
    }
   },
   "outputs": [
    {
     "name": "stdout",
     "output_type": "stream",
     "text": [
      "Train MAPE =  0.5470118607184733\n"
     ]
    }
   ],
   "source": [
    "train_preds_mean = [mean_wait_train for _ in range(target_train.shape[0])] \n",
    "train_mape_mean = mean_absolute_percentage_error(target_train['waiting_time'], train_preds_mean)\n",
    "print(\"Train MAPE (Mean Model) = \", train_mape_mean)"
   ]
  },
  {
   "cell_type": "code",
   "execution_count": 83,
   "id": "6a2bf432",
   "metadata": {
    "ExecuteTime": {
     "end_time": "2023-05-06T09:07:40.026917Z",
     "start_time": "2023-05-06T09:07:40.022577Z"
    }
   },
   "outputs": [
    {
     "name": "stdout",
     "output_type": "stream",
     "text": [
      "Test MAPE =  0.5218410830732448\n"
     ]
    }
   ],
   "source": [
    "test_preds_mean = [mean_wait_train for _ in range(target_test.shape[0])]\n",
    "test_mape_mean = mean_absolute_percentage_error(\n",
    "    target_test['waiting_time'], test_preds_mean\n",
    ")\n",
    "print(\"Test MAPE = \", test_mape_mean)"
   ]
  },
  {
   "cell_type": "code",
   "execution_count": null,
   "id": "c82e5886",
   "metadata": {},
   "outputs": [],
   "source": []
  }
 ],
 "metadata": {
  "kernelspec": {
   "display_name": "Python 3 (ipykernel)",
   "language": "python",
   "name": "python3"
  },
  "language_info": {
   "codemirror_mode": {
    "name": "ipython",
    "version": 3
   },
   "file_extension": ".py",
   "mimetype": "text/x-python",
   "name": "python",
   "nbconvert_exporter": "python",
   "pygments_lexer": "ipython3",
   "version": "3.10.11"
  },
  "toc": {
   "base_numbering": 1,
   "nav_menu": {},
   "number_sections": true,
   "sideBar": true,
   "skip_h1_title": false,
   "title_cell": "Table of Contents",
   "title_sidebar": "Contents",
   "toc_cell": false,
   "toc_position": {},
   "toc_section_display": true,
   "toc_window_display": false
  }
 },
 "nbformat": 4,
 "nbformat_minor": 5
}
